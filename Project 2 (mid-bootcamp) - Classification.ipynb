{
 "cells": [
  {
   "cell_type": "markdown",
   "metadata": {},
   "source": [
    "# Project 2 (mid-bootcamp) - Classification"
   ]
  },
  {
   "cell_type": "markdown",
   "metadata": {},
   "source": [
    "## 1. Import librariies"
   ]
  },
  {
   "cell_type": "code",
   "execution_count": 1,
   "metadata": {},
   "outputs": [
    {
     "name": "stdout",
     "output_type": "stream",
     "text": [
      "········\n"
     ]
    }
   ],
   "source": [
    "import pymysql\n",
    "from sqlalchemy import create_engine\n",
    "import pandas as pd\n",
    "import numpy as np\n",
    "import getpass\n",
    "import matplotlib.pyplot as plt\n",
    "import seaborn as sns\n",
    "import scipy.stats as stats\n",
    "import os\n",
    "import statsmodels.api as sm\n",
    "from sklearn.model_selection import train_test_split\n",
    "from sklearn.linear_model import LogisticRegression\n",
    "from sklearn.metrics import confusion_matrix\n",
    "from imblearn.over_sampling import SMOTE\n",
    "from sklearn.neighbors import KNeighborsClassifier\n",
    "from sklearn.tree import DecisionTreeClassifier\n",
    "\n",
    "import warnings\n",
    "warnings.filterwarnings('ignore')\n",
    "\n",
    "pd.options.display.max_columns = None\n",
    "\n",
    "password = getpass.getpass()"
   ]
  },
  {
   "cell_type": "markdown",
   "metadata": {},
   "source": [
    "## 2. Load data"
   ]
  },
  {
   "cell_type": "code",
   "execution_count": 2,
   "metadata": {
    "scrolled": true
   },
   "outputs": [
    {
     "data": {
      "text/html": [
       "<div>\n",
       "<style scoped>\n",
       "    .dataframe tbody tr th:only-of-type {\n",
       "        vertical-align: middle;\n",
       "    }\n",
       "\n",
       "    .dataframe tbody tr th {\n",
       "        vertical-align: top;\n",
       "    }\n",
       "\n",
       "    .dataframe thead th {\n",
       "        text-align: right;\n",
       "    }\n",
       "</style>\n",
       "<table border=\"1\" class=\"dataframe\">\n",
       "  <thead>\n",
       "    <tr style=\"text-align: right;\">\n",
       "      <th></th>\n",
       "      <th>CustomerNumber</th>\n",
       "      <th>Offer Accepted</th>\n",
       "      <th>Reward</th>\n",
       "      <th>Mailer Type</th>\n",
       "      <th>Income Level</th>\n",
       "      <th># Bank Accounts Open</th>\n",
       "      <th>Overdraft Protection</th>\n",
       "      <th>Credit Rating</th>\n",
       "      <th># Credit Cards Held</th>\n",
       "      <th># Homes Owned</th>\n",
       "      <th>Household Size</th>\n",
       "      <th>Own Your Home</th>\n",
       "      <th>Average Balance</th>\n",
       "      <th>Q1 Balance</th>\n",
       "      <th>Q2 Balance</th>\n",
       "      <th>Q3 Balance</th>\n",
       "    </tr>\n",
       "  </thead>\n",
       "  <tbody>\n",
       "    <tr>\n",
       "      <th>0</th>\n",
       "      <td>1</td>\n",
       "      <td>No</td>\n",
       "      <td>Air Miles</td>\n",
       "      <td>Letter</td>\n",
       "      <td>High</td>\n",
       "      <td>1</td>\n",
       "      <td>No</td>\n",
       "      <td>High</td>\n",
       "      <td>2</td>\n",
       "      <td>1</td>\n",
       "      <td>4</td>\n",
       "      <td>No</td>\n",
       "      <td>1160.75</td>\n",
       "      <td>1669</td>\n",
       "      <td>877</td>\n",
       "      <td>1095</td>\n",
       "    </tr>\n",
       "    <tr>\n",
       "      <th>1</th>\n",
       "      <td>2</td>\n",
       "      <td>No</td>\n",
       "      <td>Air Miles</td>\n",
       "      <td>Letter</td>\n",
       "      <td>Medium</td>\n",
       "      <td>1</td>\n",
       "      <td>No</td>\n",
       "      <td>Medium</td>\n",
       "      <td>2</td>\n",
       "      <td>2</td>\n",
       "      <td>5</td>\n",
       "      <td>Yes</td>\n",
       "      <td>147.25</td>\n",
       "      <td>39</td>\n",
       "      <td>106</td>\n",
       "      <td>78</td>\n",
       "    </tr>\n",
       "    <tr>\n",
       "      <th>2</th>\n",
       "      <td>3</td>\n",
       "      <td>No</td>\n",
       "      <td>Air Miles</td>\n",
       "      <td>Postcard</td>\n",
       "      <td>High</td>\n",
       "      <td>2</td>\n",
       "      <td>No</td>\n",
       "      <td>Medium</td>\n",
       "      <td>2</td>\n",
       "      <td>1</td>\n",
       "      <td>2</td>\n",
       "      <td>Yes</td>\n",
       "      <td>276.50</td>\n",
       "      <td>367</td>\n",
       "      <td>352</td>\n",
       "      <td>145</td>\n",
       "    </tr>\n",
       "    <tr>\n",
       "      <th>3</th>\n",
       "      <td>4</td>\n",
       "      <td>No</td>\n",
       "      <td>Air Miles</td>\n",
       "      <td>Letter</td>\n",
       "      <td>Medium</td>\n",
       "      <td>2</td>\n",
       "      <td>No</td>\n",
       "      <td>High</td>\n",
       "      <td>1</td>\n",
       "      <td>1</td>\n",
       "      <td>4</td>\n",
       "      <td>No</td>\n",
       "      <td>1219.00</td>\n",
       "      <td>1578</td>\n",
       "      <td>1760</td>\n",
       "      <td>1119</td>\n",
       "    </tr>\n",
       "    <tr>\n",
       "      <th>4</th>\n",
       "      <td>5</td>\n",
       "      <td>No</td>\n",
       "      <td>Air Miles</td>\n",
       "      <td>Letter</td>\n",
       "      <td>Medium</td>\n",
       "      <td>1</td>\n",
       "      <td>No</td>\n",
       "      <td>Medium</td>\n",
       "      <td>2</td>\n",
       "      <td>1</td>\n",
       "      <td>6</td>\n",
       "      <td>Yes</td>\n",
       "      <td>1211.00</td>\n",
       "      <td>2140</td>\n",
       "      <td>1357</td>\n",
       "      <td>982</td>\n",
       "    </tr>\n",
       "    <tr>\n",
       "      <th>...</th>\n",
       "      <td>...</td>\n",
       "      <td>...</td>\n",
       "      <td>...</td>\n",
       "      <td>...</td>\n",
       "      <td>...</td>\n",
       "      <td>...</td>\n",
       "      <td>...</td>\n",
       "      <td>...</td>\n",
       "      <td>...</td>\n",
       "      <td>...</td>\n",
       "      <td>...</td>\n",
       "      <td>...</td>\n",
       "      <td>...</td>\n",
       "      <td>...</td>\n",
       "      <td>...</td>\n",
       "      <td>...</td>\n",
       "    </tr>\n",
       "    <tr>\n",
       "      <th>17971</th>\n",
       "      <td>17996</td>\n",
       "      <td>No</td>\n",
       "      <td>Cash Back</td>\n",
       "      <td>Letter</td>\n",
       "      <td>High</td>\n",
       "      <td>1</td>\n",
       "      <td>No</td>\n",
       "      <td>Low</td>\n",
       "      <td>1</td>\n",
       "      <td>1</td>\n",
       "      <td>5</td>\n",
       "      <td>Yes</td>\n",
       "      <td>167.50</td>\n",
       "      <td>136</td>\n",
       "      <td>65</td>\n",
       "      <td>71</td>\n",
       "    </tr>\n",
       "    <tr>\n",
       "      <th>17972</th>\n",
       "      <td>17997</td>\n",
       "      <td>No</td>\n",
       "      <td>Cash Back</td>\n",
       "      <td>Letter</td>\n",
       "      <td>High</td>\n",
       "      <td>1</td>\n",
       "      <td>No</td>\n",
       "      <td>Low</td>\n",
       "      <td>3</td>\n",
       "      <td>1</td>\n",
       "      <td>3</td>\n",
       "      <td>Yes</td>\n",
       "      <td>850.50</td>\n",
       "      <td>984</td>\n",
       "      <td>940</td>\n",
       "      <td>943</td>\n",
       "    </tr>\n",
       "    <tr>\n",
       "      <th>17973</th>\n",
       "      <td>17998</td>\n",
       "      <td>No</td>\n",
       "      <td>Cash Back</td>\n",
       "      <td>Letter</td>\n",
       "      <td>High</td>\n",
       "      <td>1</td>\n",
       "      <td>No</td>\n",
       "      <td>Low</td>\n",
       "      <td>2</td>\n",
       "      <td>1</td>\n",
       "      <td>4</td>\n",
       "      <td>No</td>\n",
       "      <td>1087.25</td>\n",
       "      <td>918</td>\n",
       "      <td>767</td>\n",
       "      <td>1170</td>\n",
       "    </tr>\n",
       "    <tr>\n",
       "      <th>17974</th>\n",
       "      <td>17999</td>\n",
       "      <td>No</td>\n",
       "      <td>Cash Back</td>\n",
       "      <td>Letter</td>\n",
       "      <td>Medium</td>\n",
       "      <td>1</td>\n",
       "      <td>No</td>\n",
       "      <td>Medium</td>\n",
       "      <td>4</td>\n",
       "      <td>2</td>\n",
       "      <td>2</td>\n",
       "      <td>Yes</td>\n",
       "      <td>1022.25</td>\n",
       "      <td>626</td>\n",
       "      <td>983</td>\n",
       "      <td>865</td>\n",
       "    </tr>\n",
       "    <tr>\n",
       "      <th>17975</th>\n",
       "      <td>18000</td>\n",
       "      <td>No</td>\n",
       "      <td>Cash Back</td>\n",
       "      <td>Letter</td>\n",
       "      <td>Low</td>\n",
       "      <td>2</td>\n",
       "      <td>No</td>\n",
       "      <td>Medium</td>\n",
       "      <td>2</td>\n",
       "      <td>1</td>\n",
       "      <td>3</td>\n",
       "      <td>No</td>\n",
       "      <td>1056.00</td>\n",
       "      <td>265</td>\n",
       "      <td>1378</td>\n",
       "      <td>1978</td>\n",
       "    </tr>\n",
       "  </tbody>\n",
       "</table>\n",
       "<p>17976 rows × 16 columns</p>\n",
       "</div>"
      ],
      "text/plain": [
       "       CustomerNumber Offer Accepted     Reward Mailer Type Income Level  \\\n",
       "0                   1             No  Air Miles      Letter         High   \n",
       "1                   2             No  Air Miles      Letter       Medium   \n",
       "2                   3             No  Air Miles    Postcard         High   \n",
       "3                   4             No  Air Miles      Letter       Medium   \n",
       "4                   5             No  Air Miles      Letter       Medium   \n",
       "...               ...            ...        ...         ...          ...   \n",
       "17971           17996             No  Cash Back      Letter         High   \n",
       "17972           17997             No  Cash Back      Letter         High   \n",
       "17973           17998             No  Cash Back      Letter         High   \n",
       "17974           17999             No  Cash Back      Letter       Medium   \n",
       "17975           18000             No  Cash Back      Letter          Low   \n",
       "\n",
       "       # Bank Accounts Open Overdraft Protection Credit Rating  \\\n",
       "0                         1                   No          High   \n",
       "1                         1                   No        Medium   \n",
       "2                         2                   No        Medium   \n",
       "3                         2                   No          High   \n",
       "4                         1                   No        Medium   \n",
       "...                     ...                  ...           ...   \n",
       "17971                     1                   No           Low   \n",
       "17972                     1                   No           Low   \n",
       "17973                     1                   No           Low   \n",
       "17974                     1                   No        Medium   \n",
       "17975                     2                   No        Medium   \n",
       "\n",
       "       # Credit Cards Held  # Homes Owned  Household Size Own Your Home  \\\n",
       "0                        2              1               4            No   \n",
       "1                        2              2               5           Yes   \n",
       "2                        2              1               2           Yes   \n",
       "3                        1              1               4            No   \n",
       "4                        2              1               6           Yes   \n",
       "...                    ...            ...             ...           ...   \n",
       "17971                    1              1               5           Yes   \n",
       "17972                    3              1               3           Yes   \n",
       "17973                    2              1               4            No   \n",
       "17974                    4              2               2           Yes   \n",
       "17975                    2              1               3            No   \n",
       "\n",
       "       Average Balance  Q1 Balance  Q2 Balance  Q3 Balance  \n",
       "0              1160.75        1669         877        1095  \n",
       "1               147.25          39         106          78  \n",
       "2               276.50         367         352         145  \n",
       "3              1219.00        1578        1760        1119  \n",
       "4              1211.00        2140        1357         982  \n",
       "...                ...         ...         ...         ...  \n",
       "17971           167.50         136          65          71  \n",
       "17972           850.50         984         940         943  \n",
       "17973          1087.25         918         767        1170  \n",
       "17974          1022.25         626         983         865  \n",
       "17975          1056.00         265        1378        1978  \n",
       "\n",
       "[17976 rows x 16 columns]"
      ]
     },
     "execution_count": 2,
     "metadata": {},
     "output_type": "execute_result"
    }
   ],
   "source": [
    "connection_string = 'mysql+pymysql://root:' + password + '@localhost/credit_card_classification'\n",
    "engine = create_engine(connection_string)\n",
    "query = '''\n",
    "        select * from creditcardmarketing;\n",
    "        '''\n",
    "\n",
    "data = pd.read_sql_query(query, engine)\n",
    "data"
   ]
  },
  {
   "cell_type": "markdown",
   "metadata": {},
   "source": [
    "## 3. Dealing with the data & data cleaning"
   ]
  },
  {
   "cell_type": "code",
   "execution_count": 3,
   "metadata": {},
   "outputs": [
    {
     "data": {
      "text/plain": [
       "(17976, 16)"
      ]
     },
     "execution_count": 3,
     "metadata": {},
     "output_type": "execute_result"
    }
   ],
   "source": [
    "data.shape"
   ]
  },
  {
   "cell_type": "code",
   "execution_count": 4,
   "metadata": {},
   "outputs": [
    {
     "name": "stdout",
     "output_type": "stream",
     "text": [
      "<class 'pandas.core.frame.DataFrame'>\n",
      "RangeIndex: 17976 entries, 0 to 17975\n",
      "Data columns (total 16 columns):\n",
      " #   Column                Non-Null Count  Dtype  \n",
      "---  ------                --------------  -----  \n",
      " 0   CustomerNumber        17976 non-null  int64  \n",
      " 1   Offer Accepted        17976 non-null  object \n",
      " 2   Reward                17976 non-null  object \n",
      " 3   Mailer Type           17976 non-null  object \n",
      " 4   Income Level          17976 non-null  object \n",
      " 5   # Bank Accounts Open  17976 non-null  int64  \n",
      " 6   Overdraft Protection  17976 non-null  object \n",
      " 7   Credit Rating         17976 non-null  object \n",
      " 8   # Credit Cards Held   17976 non-null  int64  \n",
      " 9   # Homes Owned         17976 non-null  int64  \n",
      " 10  Household Size        17976 non-null  int64  \n",
      " 11  Own Your Home         17976 non-null  object \n",
      " 12  Average Balance       17976 non-null  float64\n",
      " 13  Q1 Balance            17976 non-null  int64  \n",
      " 14  Q2 Balance            17976 non-null  int64  \n",
      " 15  Q3 Balance            17976 non-null  int64  \n",
      "dtypes: float64(1), int64(8), object(7)\n",
      "memory usage: 2.2+ MB\n"
     ]
    }
   ],
   "source": [
    "data.info()"
   ]
  },
  {
   "cell_type": "code",
   "execution_count": 5,
   "metadata": {},
   "outputs": [
    {
     "data": {
      "text/html": [
       "<div>\n",
       "<style scoped>\n",
       "    .dataframe tbody tr th:only-of-type {\n",
       "        vertical-align: middle;\n",
       "    }\n",
       "\n",
       "    .dataframe tbody tr th {\n",
       "        vertical-align: top;\n",
       "    }\n",
       "\n",
       "    .dataframe thead th {\n",
       "        text-align: right;\n",
       "    }\n",
       "</style>\n",
       "<table border=\"1\" class=\"dataframe\">\n",
       "  <thead>\n",
       "    <tr style=\"text-align: right;\">\n",
       "      <th></th>\n",
       "      <th>CustomerNumber</th>\n",
       "      <th># Bank Accounts Open</th>\n",
       "      <th># Credit Cards Held</th>\n",
       "      <th># Homes Owned</th>\n",
       "      <th>Household Size</th>\n",
       "      <th>Average Balance</th>\n",
       "      <th>Q1 Balance</th>\n",
       "      <th>Q2 Balance</th>\n",
       "      <th>Q3 Balance</th>\n",
       "    </tr>\n",
       "  </thead>\n",
       "  <tbody>\n",
       "    <tr>\n",
       "      <th>count</th>\n",
       "      <td>17976.000000</td>\n",
       "      <td>17976.000000</td>\n",
       "      <td>17976.000000</td>\n",
       "      <td>17976.000000</td>\n",
       "      <td>17976.000000</td>\n",
       "      <td>17976.000000</td>\n",
       "      <td>17976.000000</td>\n",
       "      <td>17976.000000</td>\n",
       "      <td>17976.000000</td>\n",
       "    </tr>\n",
       "    <tr>\n",
       "      <th>mean</th>\n",
       "      <td>8999.727192</td>\n",
       "      <td>1.255730</td>\n",
       "      <td>1.903427</td>\n",
       "      <td>1.203549</td>\n",
       "      <td>3.499110</td>\n",
       "      <td>940.515562</td>\n",
       "      <td>910.450656</td>\n",
       "      <td>999.392190</td>\n",
       "      <td>1042.033600</td>\n",
       "    </tr>\n",
       "    <tr>\n",
       "      <th>std</th>\n",
       "      <td>5196.958865</td>\n",
       "      <td>0.472405</td>\n",
       "      <td>0.797086</td>\n",
       "      <td>0.427446</td>\n",
       "      <td>1.114476</td>\n",
       "      <td>350.297837</td>\n",
       "      <td>620.077060</td>\n",
       "      <td>457.402268</td>\n",
       "      <td>553.452599</td>\n",
       "    </tr>\n",
       "    <tr>\n",
       "      <th>min</th>\n",
       "      <td>1.000000</td>\n",
       "      <td>1.000000</td>\n",
       "      <td>1.000000</td>\n",
       "      <td>1.000000</td>\n",
       "      <td>1.000000</td>\n",
       "      <td>48.250000</td>\n",
       "      <td>0.000000</td>\n",
       "      <td>0.000000</td>\n",
       "      <td>0.000000</td>\n",
       "    </tr>\n",
       "    <tr>\n",
       "      <th>25%</th>\n",
       "      <td>4498.750000</td>\n",
       "      <td>1.000000</td>\n",
       "      <td>1.000000</td>\n",
       "      <td>1.000000</td>\n",
       "      <td>3.000000</td>\n",
       "      <td>787.500000</td>\n",
       "      <td>392.750000</td>\n",
       "      <td>663.000000</td>\n",
       "      <td>633.000000</td>\n",
       "    </tr>\n",
       "    <tr>\n",
       "      <th>50%</th>\n",
       "      <td>9000.500000</td>\n",
       "      <td>1.000000</td>\n",
       "      <td>2.000000</td>\n",
       "      <td>1.000000</td>\n",
       "      <td>3.000000</td>\n",
       "      <td>1007.000000</td>\n",
       "      <td>772.000000</td>\n",
       "      <td>1032.000000</td>\n",
       "      <td>945.500000</td>\n",
       "    </tr>\n",
       "    <tr>\n",
       "      <th>75%</th>\n",
       "      <td>13501.250000</td>\n",
       "      <td>1.000000</td>\n",
       "      <td>2.000000</td>\n",
       "      <td>1.000000</td>\n",
       "      <td>4.000000</td>\n",
       "      <td>1153.250000</td>\n",
       "      <td>1521.000000</td>\n",
       "      <td>1342.000000</td>\n",
       "      <td>1463.000000</td>\n",
       "    </tr>\n",
       "    <tr>\n",
       "      <th>max</th>\n",
       "      <td>18000.000000</td>\n",
       "      <td>3.000000</td>\n",
       "      <td>4.000000</td>\n",
       "      <td>3.000000</td>\n",
       "      <td>9.000000</td>\n",
       "      <td>3366.250000</td>\n",
       "      <td>3450.000000</td>\n",
       "      <td>3421.000000</td>\n",
       "      <td>3823.000000</td>\n",
       "    </tr>\n",
       "  </tbody>\n",
       "</table>\n",
       "</div>"
      ],
      "text/plain": [
       "       CustomerNumber  # Bank Accounts Open  # Credit Cards Held  \\\n",
       "count    17976.000000          17976.000000         17976.000000   \n",
       "mean      8999.727192              1.255730             1.903427   \n",
       "std       5196.958865              0.472405             0.797086   \n",
       "min          1.000000              1.000000             1.000000   \n",
       "25%       4498.750000              1.000000             1.000000   \n",
       "50%       9000.500000              1.000000             2.000000   \n",
       "75%      13501.250000              1.000000             2.000000   \n",
       "max      18000.000000              3.000000             4.000000   \n",
       "\n",
       "       # Homes Owned  Household Size  Average Balance    Q1 Balance  \\\n",
       "count   17976.000000    17976.000000     17976.000000  17976.000000   \n",
       "mean        1.203549        3.499110       940.515562    910.450656   \n",
       "std         0.427446        1.114476       350.297837    620.077060   \n",
       "min         1.000000        1.000000        48.250000      0.000000   \n",
       "25%         1.000000        3.000000       787.500000    392.750000   \n",
       "50%         1.000000        3.000000      1007.000000    772.000000   \n",
       "75%         1.000000        4.000000      1153.250000   1521.000000   \n",
       "max         3.000000        9.000000      3366.250000   3450.000000   \n",
       "\n",
       "         Q2 Balance    Q3 Balance  \n",
       "count  17976.000000  17976.000000  \n",
       "mean     999.392190   1042.033600  \n",
       "std      457.402268    553.452599  \n",
       "min        0.000000      0.000000  \n",
       "25%      663.000000    633.000000  \n",
       "50%     1032.000000    945.500000  \n",
       "75%     1342.000000   1463.000000  \n",
       "max     3421.000000   3823.000000  "
      ]
     },
     "execution_count": 5,
     "metadata": {},
     "output_type": "execute_result"
    }
   ],
   "source": [
    "data.describe()"
   ]
  },
  {
   "cell_type": "code",
   "execution_count": 6,
   "metadata": {},
   "outputs": [],
   "source": [
    "data = data.drop_duplicates()"
   ]
  },
  {
   "cell_type": "code",
   "execution_count": 7,
   "metadata": {},
   "outputs": [],
   "source": [
    "def renaming (df):\n",
    "    df.columns = df.columns.str.lower()\n",
    "    cols = []\n",
    "    for i in range(len(df.columns)):\n",
    "        cols.append(df.columns[i].lower().replace(' ', '_'))\n",
    "    df.columns = cols\n",
    "    print(df.columns)"
   ]
  },
  {
   "cell_type": "code",
   "execution_count": 8,
   "metadata": {},
   "outputs": [
    {
     "name": "stdout",
     "output_type": "stream",
     "text": [
      "Index(['customernumber', 'offer_accepted', 'reward', 'mailer_type',\n",
      "       'income_level', '#_bank_accounts_open', 'overdraft_protection',\n",
      "       'credit_rating', '#_credit_cards_held', '#_homes_owned',\n",
      "       'household_size', 'own_your_home', 'average_balance', 'q1_balance',\n",
      "       'q2_balance', 'q3_balance'],\n",
      "      dtype='object')\n"
     ]
    }
   ],
   "source": [
    "renaming(data)"
   ]
  },
  {
   "cell_type": "code",
   "execution_count": 9,
   "metadata": {},
   "outputs": [],
   "source": [
    "# customernumer can act like an index because every customer number only apears one time\n",
    "data=data.set_index('customernumber')"
   ]
  },
  {
   "cell_type": "code",
   "execution_count": 10,
   "metadata": {},
   "outputs": [],
   "source": [
    "# Q1, Q2, Q3 can be droped because there is also the average_balance\n",
    "data = data.drop(['q1_balance', 'q2_balance', 'q3_balance'], axis=1)"
   ]
  },
  {
   "cell_type": "code",
   "execution_count": 11,
   "metadata": {},
   "outputs": [
    {
     "data": {
      "text/html": [
       "<div>\n",
       "<style scoped>\n",
       "    .dataframe tbody tr th:only-of-type {\n",
       "        vertical-align: middle;\n",
       "    }\n",
       "\n",
       "    .dataframe tbody tr th {\n",
       "        vertical-align: top;\n",
       "    }\n",
       "\n",
       "    .dataframe thead th {\n",
       "        text-align: right;\n",
       "    }\n",
       "</style>\n",
       "<table border=\"1\" class=\"dataframe\">\n",
       "  <thead>\n",
       "    <tr style=\"text-align: right;\">\n",
       "      <th></th>\n",
       "      <th>offer_accepted</th>\n",
       "      <th>reward</th>\n",
       "      <th>mailer_type</th>\n",
       "      <th>income_level</th>\n",
       "      <th>#_bank_accounts_open</th>\n",
       "      <th>overdraft_protection</th>\n",
       "      <th>credit_rating</th>\n",
       "      <th>#_credit_cards_held</th>\n",
       "      <th>#_homes_owned</th>\n",
       "      <th>household_size</th>\n",
       "      <th>own_your_home</th>\n",
       "      <th>average_balance</th>\n",
       "    </tr>\n",
       "    <tr>\n",
       "      <th>customernumber</th>\n",
       "      <th></th>\n",
       "      <th></th>\n",
       "      <th></th>\n",
       "      <th></th>\n",
       "      <th></th>\n",
       "      <th></th>\n",
       "      <th></th>\n",
       "      <th></th>\n",
       "      <th></th>\n",
       "      <th></th>\n",
       "      <th></th>\n",
       "      <th></th>\n",
       "    </tr>\n",
       "  </thead>\n",
       "  <tbody>\n",
       "    <tr>\n",
       "      <th>1</th>\n",
       "      <td>No</td>\n",
       "      <td>Air Miles</td>\n",
       "      <td>Letter</td>\n",
       "      <td>High</td>\n",
       "      <td>1</td>\n",
       "      <td>No</td>\n",
       "      <td>High</td>\n",
       "      <td>2</td>\n",
       "      <td>1</td>\n",
       "      <td>4</td>\n",
       "      <td>No</td>\n",
       "      <td>1160.75</td>\n",
       "    </tr>\n",
       "    <tr>\n",
       "      <th>2</th>\n",
       "      <td>No</td>\n",
       "      <td>Air Miles</td>\n",
       "      <td>Letter</td>\n",
       "      <td>Medium</td>\n",
       "      <td>1</td>\n",
       "      <td>No</td>\n",
       "      <td>Medium</td>\n",
       "      <td>2</td>\n",
       "      <td>2</td>\n",
       "      <td>5</td>\n",
       "      <td>Yes</td>\n",
       "      <td>147.25</td>\n",
       "    </tr>\n",
       "    <tr>\n",
       "      <th>3</th>\n",
       "      <td>No</td>\n",
       "      <td>Air Miles</td>\n",
       "      <td>Postcard</td>\n",
       "      <td>High</td>\n",
       "      <td>2</td>\n",
       "      <td>No</td>\n",
       "      <td>Medium</td>\n",
       "      <td>2</td>\n",
       "      <td>1</td>\n",
       "      <td>2</td>\n",
       "      <td>Yes</td>\n",
       "      <td>276.50</td>\n",
       "    </tr>\n",
       "    <tr>\n",
       "      <th>4</th>\n",
       "      <td>No</td>\n",
       "      <td>Air Miles</td>\n",
       "      <td>Letter</td>\n",
       "      <td>Medium</td>\n",
       "      <td>2</td>\n",
       "      <td>No</td>\n",
       "      <td>High</td>\n",
       "      <td>1</td>\n",
       "      <td>1</td>\n",
       "      <td>4</td>\n",
       "      <td>No</td>\n",
       "      <td>1219.00</td>\n",
       "    </tr>\n",
       "    <tr>\n",
       "      <th>5</th>\n",
       "      <td>No</td>\n",
       "      <td>Air Miles</td>\n",
       "      <td>Letter</td>\n",
       "      <td>Medium</td>\n",
       "      <td>1</td>\n",
       "      <td>No</td>\n",
       "      <td>Medium</td>\n",
       "      <td>2</td>\n",
       "      <td>1</td>\n",
       "      <td>6</td>\n",
       "      <td>Yes</td>\n",
       "      <td>1211.00</td>\n",
       "    </tr>\n",
       "  </tbody>\n",
       "</table>\n",
       "</div>"
      ],
      "text/plain": [
       "               offer_accepted     reward mailer_type income_level  \\\n",
       "customernumber                                                      \n",
       "1                          No  Air Miles      Letter         High   \n",
       "2                          No  Air Miles      Letter       Medium   \n",
       "3                          No  Air Miles    Postcard         High   \n",
       "4                          No  Air Miles      Letter       Medium   \n",
       "5                          No  Air Miles      Letter       Medium   \n",
       "\n",
       "                #_bank_accounts_open overdraft_protection credit_rating  \\\n",
       "customernumber                                                            \n",
       "1                                  1                   No          High   \n",
       "2                                  1                   No        Medium   \n",
       "3                                  2                   No        Medium   \n",
       "4                                  2                   No          High   \n",
       "5                                  1                   No        Medium   \n",
       "\n",
       "                #_credit_cards_held  #_homes_owned  household_size  \\\n",
       "customernumber                                                       \n",
       "1                                 2              1               4   \n",
       "2                                 2              2               5   \n",
       "3                                 2              1               2   \n",
       "4                                 1              1               4   \n",
       "5                                 2              1               6   \n",
       "\n",
       "               own_your_home  average_balance  \n",
       "customernumber                                 \n",
       "1                         No          1160.75  \n",
       "2                        Yes           147.25  \n",
       "3                        Yes           276.50  \n",
       "4                         No          1219.00  \n",
       "5                        Yes          1211.00  "
      ]
     },
     "execution_count": 11,
     "metadata": {},
     "output_type": "execute_result"
    }
   ],
   "source": [
    "data.head()"
   ]
  },
  {
   "cell_type": "code",
   "execution_count": 12,
   "metadata": {},
   "outputs": [
    {
     "data": {
      "text/plain": [
       "offer_accepted          0\n",
       "reward                  0\n",
       "mailer_type             0\n",
       "income_level            0\n",
       "#_bank_accounts_open    0\n",
       "overdraft_protection    0\n",
       "credit_rating           0\n",
       "#_credit_cards_held     0\n",
       "#_homes_owned           0\n",
       "household_size          0\n",
       "own_your_home           0\n",
       "average_balance         0\n",
       "dtype: int64"
      ]
     },
     "execution_count": 12,
     "metadata": {},
     "output_type": "execute_result"
    }
   ],
   "source": [
    "data.isna().sum()\n",
    "# no null values"
   ]
  },
  {
   "cell_type": "code",
   "execution_count": 13,
   "metadata": {},
   "outputs": [
    {
     "data": {
      "image/png": "[encoded data removed]",
      "text/plain": [
       "<Figure size 432x288 with 1 Axes>"
      ]
     },
     "metadata": {
      "needs_background": "light"
     },
     "output_type": "display_data"
    }
   ],
   "source": [
    "sns.distplot(data['average_balance'])\n",
    "plt.show()"
   ]
  },
  {
   "cell_type": "code",
   "execution_count": 14,
   "metadata": {},
   "outputs": [
    {
     "data": {
      "image/png": "[encoded data removed]",
      "text/plain": [
       "<Figure size 432x288 with 1 Axes>"
      ]
     },
     "metadata": {
      "needs_background": "light"
     },
     "output_type": "display_data"
    }
   ],
   "source": [
    "sns.boxplot(x=data['average_balance']) \n",
    "plt.show()"
   ]
  },
  {
   "cell_type": "code",
   "execution_count": 15,
   "metadata": {},
   "outputs": [
    {
     "data": {
      "image/png": "[encoded data removed]",
      "text/plain": [
       "<Figure size 432x288 with 1 Axes>"
      ]
     },
     "metadata": {
      "needs_background": "light"
     },
     "output_type": "display_data"
    }
   ],
   "source": [
    "#removing ouliers in avg. balance\n",
    "iqr = np.percentile(data['average_balance'],75) - np.percentile(data['average_balance'],25)\n",
    "upper_limit = np.percentile(data['average_balance'],75) + 1.5*iqr\n",
    "lower_limit = np.percentile(data['average_balance'],25) - 1.5*iqr\n",
    "data.loc[data['average_balance']>upper_limit, 'average_balance']=upper_limit\n",
    "data.loc[data['average_balance']<lower_limit, 'average_balance']=lower_limit\n",
    "\n",
    "sns.boxplot(x=data['average_balance']) \n",
    "plt.show()"
   ]
  },
  {
   "cell_type": "code",
   "execution_count": 16,
   "metadata": {},
   "outputs": [
    {
     "data": {
      "image/png": "[encoded data removed]",
      "text/plain": [
       "<Figure size 432x288 with 1 Axes>"
      ]
     },
     "metadata": {
      "needs_background": "light"
     },
     "output_type": "display_data"
    }
   ],
   "source": [
    "sns.distplot(data['average_balance'])\n",
    "plt.show()"
   ]
  },
  {
   "cell_type": "code",
   "execution_count": 17,
   "metadata": {},
   "outputs": [
    {
     "data": {
      "image/png": "[encoded data removed]",
      "text/plain": [
       "<Figure size 432x288 with 1 Axes>"
      ]
     },
     "metadata": {
      "needs_background": "light"
     },
     "output_type": "display_data"
    }
   ],
   "source": [
    "sns.distplot(data['household_size'])\n",
    "plt.show()"
   ]
  },
  {
   "cell_type": "code",
   "execution_count": 18,
   "metadata": {},
   "outputs": [],
   "source": [
    "def int_value_counts (df):\n",
    "    for col in df.select_dtypes('int64'):\n",
    "        print(df[col].value_counts(), '\\n')"
   ]
  },
  {
   "cell_type": "code",
   "execution_count": 19,
   "metadata": {},
   "outputs": [
    {
     "name": "stdout",
     "output_type": "stream",
     "text": [
      "1    13674\n",
      "2     4007\n",
      "3      295\n",
      "Name: #_bank_accounts_open, dtype: int64 \n",
      "\n",
      "2    7933\n",
      "1    6147\n",
      "3    3381\n",
      "4     515\n",
      "Name: #_credit_cards_held, dtype: int64 \n",
      "\n",
      "1    14502\n",
      "2     3289\n",
      "3      185\n",
      "Name: #_homes_owned, dtype: int64 \n",
      "\n",
      "3    5705\n",
      "4    5532\n",
      "5    2851\n",
      "2    2809\n",
      "1     539\n",
      "6     538\n",
      "9       1\n",
      "8       1\n",
      "Name: household_size, dtype: int64 \n",
      "\n"
     ]
    }
   ],
   "source": [
    "int_value_counts(data)"
   ]
  },
  {
   "cell_type": "code",
   "execution_count": 20,
   "metadata": {},
   "outputs": [],
   "source": [
    "# only one value for houshold size 8 & 9 --> removing those rows because they are outliers and a loss of 2 rows is fine\n",
    "data = data.drop(data[data.household_size>7].index)"
   ]
  },
  {
   "cell_type": "code",
   "execution_count": 21,
   "metadata": {},
   "outputs": [
    {
     "data": {
      "text/plain": [
       "(17974, 12)"
      ]
     },
     "execution_count": 21,
     "metadata": {},
     "output_type": "execute_result"
    }
   ],
   "source": [
    "data.shape"
   ]
  },
  {
   "cell_type": "code",
   "execution_count": 22,
   "metadata": {},
   "outputs": [
    {
     "data": {
      "image/png": "[encoded data removed]",
      "text/plain": [
       "<Figure size 720x576 with 2 Axes>"
      ]
     },
     "metadata": {
      "needs_background": "light"
     },
     "output_type": "display_data"
    }
   ],
   "source": [
    "corr_matrix=data.corr(method='pearson')  # default\n",
    "fig, ax = plt.subplots(figsize=(10, 8))\n",
    "ax = sns.heatmap(corr_matrix, annot=True)\n",
    "plt.show()\n",
    "# no corrolation between the numerical rows"
   ]
  },
  {
   "cell_type": "code",
   "execution_count": 23,
   "metadata": {},
   "outputs": [],
   "source": [
    "def object_value_counts (df):\n",
    "    for col in data.select_dtypes('object'):\n",
    "        print(data[col].value_counts(), '\\n')"
   ]
  },
  {
   "cell_type": "code",
   "execution_count": 24,
   "metadata": {},
   "outputs": [
    {
     "name": "stdout",
     "output_type": "stream",
     "text": [
      "No     16954\n",
      "Yes     1020\n",
      "Name: offer_accepted, dtype: int64 \n",
      "\n",
      "Air Miles    6046\n",
      "Cash Back    5995\n",
      "Points       5933\n",
      "Name: reward, dtype: int64 \n",
      "\n",
      "Postcard    9132\n",
      "Letter      8842\n",
      "Name: mailer_type, dtype: int64 \n",
      "\n",
      "Medium    9002\n",
      "High      4517\n",
      "Low       4455\n",
      "Name: income_level, dtype: int64 \n",
      "\n",
      "No     15299\n",
      "Yes     2675\n",
      "Name: overdraft_protection, dtype: int64 \n",
      "\n",
      "High      6064\n",
      "Medium    5964\n",
      "Low       5946\n",
      "Name: credit_rating, dtype: int64 \n",
      "\n",
      "Yes    11636\n",
      "No      6338\n",
      "Name: own_your_home, dtype: int64 \n",
      "\n"
     ]
    }
   ],
   "source": [
    "object_value_counts(data)\n",
    "# no strage values that have to be corrected\n",
    "# offer_accepted is imbalanced"
   ]
  },
  {
   "cell_type": "markdown",
   "metadata": {},
   "source": [
    "## 4. Trying & Evaluating different Models"
   ]
  },
  {
   "cell_type": "code",
   "execution_count": 25,
   "metadata": {},
   "outputs": [],
   "source": [
    "X = pd.get_dummies(data.drop('offer_accepted', axis=1))\n",
    "y = data['offer_accepted']"
   ]
  },
  {
   "cell_type": "code",
   "execution_count": 26,
   "metadata": {},
   "outputs": [
    {
     "data": {
      "text/plain": [
       "No     16954\n",
       "Yes     1020\n",
       "Name: offer_accepted, dtype: int64"
      ]
     },
     "execution_count": 26,
     "metadata": {},
     "output_type": "execute_result"
    }
   ],
   "source": [
    "data['offer_accepted'].value_counts()"
   ]
  },
  {
   "cell_type": "markdown",
   "metadata": {},
   "source": [
    "### 4.1 Simple LogisticRegression"
   ]
  },
  {
   "cell_type": "code",
   "execution_count": 27,
   "metadata": {},
   "outputs": [],
   "source": [
    "X_train, X_test, y_train, y_test = train_test_split(X, y, test_size=0.2, random_state=42)"
   ]
  },
  {
   "cell_type": "code",
   "execution_count": 28,
   "metadata": {},
   "outputs": [
    {
     "data": {
      "text/plain": [
       "LogisticRegression(max_iter=10000, random_state=42)"
      ]
     },
     "execution_count": 28,
     "metadata": {},
     "output_type": "execute_result"
    }
   ],
   "source": [
    "classification = LogisticRegression(random_state=42, max_iter=10000)\n",
    "classification.fit(X_train, y_train)"
   ]
  },
  {
   "cell_type": "code",
   "execution_count": 29,
   "metadata": {},
   "outputs": [
    {
     "data": {
      "text/plain": [
       "0.9440890125173853"
      ]
     },
     "execution_count": 29,
     "metadata": {},
     "output_type": "execute_result"
    }
   ],
   "source": [
    "classification.score(X_test, y_test)"
   ]
  },
  {
   "cell_type": "code",
   "execution_count": 30,
   "metadata": {},
   "outputs": [
    {
     "data": {
      "text/plain": [
       "array([[3394,    0],\n",
       "       [ 201,    0]], dtype=int64)"
      ]
     },
     "execution_count": 30,
     "metadata": {},
     "output_type": "execute_result"
    }
   ],
   "source": [
    "predictions = classification.predict(X_test)\n",
    "confusion_matrix(y_test, predictions)"
   ]
  },
  {
   "cell_type": "code",
   "execution_count": 31,
   "metadata": {},
   "outputs": [
    {
     "data": {
      "text/plain": [
       "<AxesSubplot:>"
      ]
     },
     "execution_count": 31,
     "metadata": {},
     "output_type": "execute_result"
    },
    {
     "data": {
      "image/png": "[encoded data removed]",
      "text/plain": [
       "<Figure size 432x288 with 2 Axes>"
      ]
     },
     "metadata": {
      "needs_background": "light"
     },
     "output_type": "display_data"
    }
   ],
   "source": [
    "cf_matrix = confusion_matrix(y_test, predictions)\n",
    "group_names = ['True No', 'False No',\n",
    "               'False Yes', 'True Yes',]\n",
    "\n",
    "group_counts = [\"{0:0.0f}\".format(value) for value in cf_matrix.flatten()]\n",
    "group_percentages = [\"{0:.2%}\".format(value) for value in cf_matrix.flatten()/np.sum(cf_matrix)]\n",
    "labels = [f\"{v1}\\n{v2}\\n{v3}\" for v1, v2, v3 in zip(group_names,group_counts,group_percentages)]\n",
    "labels = np.asarray(labels).reshape(2,2)\n",
    "sns.heatmap(cf_matrix, annot=labels, fmt='', cmap='Blues')"
   ]
  },
  {
   "cell_type": "code",
   "execution_count": 32,
   "metadata": {},
   "outputs": [
    {
     "data": {
      "image/png": "[encoded data removed]",
      "text/plain": [
       "<Figure size 432x288 with 2 Axes>"
      ]
     },
     "metadata": {
      "needs_background": "light"
     },
     "output_type": "display_data"
    }
   ],
   "source": [
    "from sklearn.metrics import plot_confusion_matrix\n",
    "\n",
    "plot_confusion_matrix(classification, X_test, y_test, cmap='Blues')\n",
    "plt.show()"
   ]
  },
  {
   "cell_type": "markdown",
   "metadata": {},
   "source": [
    "Good prediction of True Nos but very bad prediction of True Yes because of imbalanced data"
   ]
  },
  {
   "cell_type": "markdown",
   "metadata": {},
   "source": [
    "### 4.2 LogisticRegression with class_weight='balanced'"
   ]
  },
  {
   "cell_type": "code",
   "execution_count": 33,
   "metadata": {},
   "outputs": [
    {
     "data": {
      "text/plain": [
       "0.6720445062586926"
      ]
     },
     "execution_count": 33,
     "metadata": {},
     "output_type": "execute_result"
    }
   ],
   "source": [
    "classification = LogisticRegression(random_state=42, max_iter=10000, class_weight='balanced')\n",
    "classification.fit(X_train, y_train)\n",
    "classification.score(X_test, y_test)"
   ]
  },
  {
   "cell_type": "code",
   "execution_count": 34,
   "metadata": {},
   "outputs": [
    {
     "data": {
      "text/plain": [
       "array([[2278, 1116],\n",
       "       [  63,  138]], dtype=int64)"
      ]
     },
     "execution_count": 34,
     "metadata": {},
     "output_type": "execute_result"
    }
   ],
   "source": [
    "predictions = classification.predict(X_test)\n",
    "confusion_matrix(y_test, predictions)"
   ]
  },
  {
   "cell_type": "code",
   "execution_count": 35,
   "metadata": {},
   "outputs": [
    {
     "data": {
      "text/plain": [
       "<AxesSubplot:>"
      ]
     },
     "execution_count": 35,
     "metadata": {},
     "output_type": "execute_result"
    },
    {
     "data": {
      "image/png": "[encoded data removed]",
      "text/plain": [
       "<Figure size 432x288 with 2 Axes>"
      ]
     },
     "metadata": {
      "needs_background": "light"
     },
     "output_type": "display_data"
    }
   ],
   "source": [
    "cf_matrix = confusion_matrix(y_test, predictions)\n",
    "group_names = ['True No', 'False No',\n",
    "               'False Yes', 'True Yes',]\n",
    "\n",
    "group_counts = [\"{0:0.0f}\".format(value) for value in cf_matrix.flatten()]\n",
    "group_percentages = [\"{0:.2%}\".format(value) for value in cf_matrix.flatten()/np.sum(cf_matrix)]\n",
    "labels = [f\"{v1}\\n{v2}\\n{v3}\" for v1, v2, v3 in zip(group_names,group_counts,group_percentages)]\n",
    "labels = np.asarray(labels).reshape(2,2)\n",
    "sns.heatmap(cf_matrix, annot=labels, fmt='', cmap='Blues')"
   ]
  },
  {
   "cell_type": "markdown",
   "metadata": {},
   "source": [
    "Getting better in predicting True Yes but now there are a lot of False Nos"
   ]
  },
  {
   "cell_type": "markdown",
   "metadata": {},
   "source": [
    "### 4.3 LogisticRegression with weights"
   ]
  },
  {
   "cell_type": "code",
   "execution_count": 36,
   "metadata": {},
   "outputs": [
    {
     "data": {
      "text/plain": [
       "{'No': 0.5300813967205379, 'Yes': 8.81078431372549}"
      ]
     },
     "execution_count": 36,
     "metadata": {},
     "output_type": "execute_result"
    }
   ],
   "source": [
    "total = sum(data['offer_accepted'].value_counts())\n",
    "\n",
    "weights = {'No': total/(2*data['offer_accepted'].value_counts()['No']),\n",
    "           'Yes': total/(2*data['offer_accepted'].value_counts()['Yes'])}\n",
    "weights"
   ]
  },
  {
   "cell_type": "code",
   "execution_count": 37,
   "metadata": {},
   "outputs": [
    {
     "data": {
      "text/plain": [
       "0.6675938803894298"
      ]
     },
     "execution_count": 37,
     "metadata": {},
     "output_type": "execute_result"
    }
   ],
   "source": [
    "classification = LogisticRegression(random_state=42, max_iter=10000, class_weight=weights)\n",
    "classification.fit(X_train, y_train)\n",
    "classification.score(X_test, y_test)"
   ]
  },
  {
   "cell_type": "code",
   "execution_count": 38,
   "metadata": {},
   "outputs": [
    {
     "data": {
      "text/plain": [
       "array([[2261, 1133],\n",
       "       [  62,  139]], dtype=int64)"
      ]
     },
     "execution_count": 38,
     "metadata": {},
     "output_type": "execute_result"
    }
   ],
   "source": [
    "predictions = classification.predict(X_test)\n",
    "confusion_matrix(y_test, predictions)"
   ]
  },
  {
   "cell_type": "code",
   "execution_count": 39,
   "metadata": {},
   "outputs": [
    {
     "data": {
      "text/plain": [
       "<AxesSubplot:>"
      ]
     },
     "execution_count": 39,
     "metadata": {},
     "output_type": "execute_result"
    },
    {
     "data": {
      "image/png": "[encoded data removed]",
      "text/plain": [
       "<Figure size 432x288 with 2 Axes>"
      ]
     },
     "metadata": {
      "needs_background": "light"
     },
     "output_type": "display_data"
    }
   ],
   "source": [
    "cf_matrix = confusion_matrix(y_test, predictions)\n",
    "group_names = ['True No', 'False No',\n",
    "               'False Yes', 'True Yes',]\n",
    "\n",
    "group_counts = [\"{0:0.0f}\".format(value) for value in cf_matrix.flatten()]\n",
    "group_percentages = [\"{0:.2%}\".format(value) for value in cf_matrix.flatten()/np.sum(cf_matrix)]\n",
    "labels = [f\"{v1}\\n{v2}\\n{v3}\" for v1, v2, v3 in zip(group_names,group_counts,group_percentages)]\n",
    "labels = np.asarray(labels).reshape(2,2)\n",
    "sns.heatmap(cf_matrix, annot=labels, fmt='', cmap='Blues')"
   ]
  },
  {
   "cell_type": "markdown",
   "metadata": {},
   "source": [
    "A little more Flase Nos"
   ]
  },
  {
   "cell_type": "markdown",
   "metadata": {},
   "source": [
    "### 4.5 Different LogisticRegressions with SMOTE"
   ]
  },
  {
   "cell_type": "code",
   "execution_count": 40,
   "metadata": {},
   "outputs": [
    {
     "data": {
      "text/plain": [
       "Yes    13560\n",
       "No     13560\n",
       "Name: offer_accepted, dtype: int64"
      ]
     },
     "execution_count": 40,
     "metadata": {},
     "output_type": "execute_result"
    }
   ],
   "source": [
    "smote = SMOTE()\n",
    "\n",
    "X_train_sm, y_train_sm = smote.fit_resample(X_train, y_train)\n",
    "y_train_sm.value_counts()"
   ]
  },
  {
   "cell_type": "code",
   "execution_count": 41,
   "metadata": {},
   "outputs": [],
   "source": [
    "#smote = SMOTE()\n",
    "\n",
    "#X_sm, y_sm = smote.fit_resample(X, y)\n",
    "#y_sm.value_counts()"
   ]
  },
  {
   "cell_type": "code",
   "execution_count": 42,
   "metadata": {},
   "outputs": [],
   "source": [
    "#X_train_sm, X_test_sm, y_train_sm, y_test_sm = train_test_split(X_sm, y_sm, test_size=0.2, random_state=42)"
   ]
  },
  {
   "cell_type": "markdown",
   "metadata": {},
   "source": [
    "### LogisticRegression"
   ]
  },
  {
   "cell_type": "code",
   "execution_count": 43,
   "metadata": {},
   "outputs": [
    {
     "data": {
      "text/plain": [
       "0.9424200278164117"
      ]
     },
     "execution_count": 43,
     "metadata": {},
     "output_type": "execute_result"
    }
   ],
   "source": [
    "classification = LogisticRegression(random_state=42, max_iter=10000)\n",
    "classification.fit(X_train_sm, y_train_sm)\n",
    "classification.score(X_test, y_test)"
   ]
  },
  {
   "cell_type": "code",
   "execution_count": 45,
   "metadata": {},
   "outputs": [
    {
     "data": {
      "text/plain": [
       "array([[3388,    6],\n",
       "       [ 201,    0]], dtype=int64)"
      ]
     },
     "execution_count": 45,
     "metadata": {},
     "output_type": "execute_result"
    }
   ],
   "source": [
    "predictions = classification.predict(X_test)\n",
    "confusion_matrix(y_test, predictions)"
   ]
  },
  {
   "cell_type": "code",
   "execution_count": 46,
   "metadata": {},
   "outputs": [
    {
     "data": {
      "text/plain": [
       "<AxesSubplot:>"
      ]
     },
     "execution_count": 46,
     "metadata": {},
     "output_type": "execute_result"
    },
    {
     "data": {
      "image/png": "[encoded data removed]",
      "text/plain": [
       "<Figure size 432x288 with 2 Axes>"
      ]
     },
     "metadata": {
      "needs_background": "light"
     },
     "output_type": "display_data"
    }
   ],
   "source": [
    "cf_matrix = confusion_matrix(y_test, predictions)\n",
    "group_names = ['True No', 'False No',\n",
    "               'False Yes', 'True Yes',]\n",
    "\n",
    "group_counts = [\"{0:0.0f}\".format(value) for value in cf_matrix.flatten()]\n",
    "group_percentages = [\"{0:.2%}\".format(value) for value in cf_matrix.flatten()/np.sum(cf_matrix)]\n",
    "labels = [f\"{v1}\\n{v2}\\n{v3}\" for v1, v2, v3 in zip(group_names,group_counts,group_percentages)]\n",
    "labels = np.asarray(labels).reshape(2,2)\n",
    "sns.heatmap(cf_matrix, annot=labels, fmt='', cmap='Blues')"
   ]
  },
  {
   "cell_type": "markdown",
   "metadata": {},
   "source": [
    "A good True No rate but a bad True Yes rate"
   ]
  },
  {
   "cell_type": "markdown",
   "metadata": {},
   "source": [
    "### LogisticRegression with class_weight='balanced'"
   ]
  },
  {
   "cell_type": "code",
   "execution_count": 47,
   "metadata": {},
   "outputs": [
    {
     "data": {
      "text/plain": [
       "0.9424200278164117"
      ]
     },
     "execution_count": 47,
     "metadata": {},
     "output_type": "execute_result"
    }
   ],
   "source": [
    "classification = LogisticRegression(random_state=42, max_iter=10000, class_weight='balanced')\n",
    "classification.fit(X_train_sm, y_train_sm)\n",
    "classification.score(X_test, y_test)"
   ]
  },
  {
   "cell_type": "code",
   "execution_count": 48,
   "metadata": {},
   "outputs": [
    {
     "data": {
      "text/plain": [
       "array([[3388,    6],\n",
       "       [ 201,    0]], dtype=int64)"
      ]
     },
     "execution_count": 48,
     "metadata": {},
     "output_type": "execute_result"
    }
   ],
   "source": [
    "predictions = classification.predict(X_test)\n",
    "confusion_matrix(y_test, predictions)"
   ]
  },
  {
   "cell_type": "code",
   "execution_count": 49,
   "metadata": {},
   "outputs": [
    {
     "data": {
      "text/plain": [
       "<AxesSubplot:>"
      ]
     },
     "execution_count": 49,
     "metadata": {},
     "output_type": "execute_result"
    },
    {
     "data": {
      "image/png": "[encoded data removed]",
      "text/plain": [
       "<Figure size 432x288 with 2 Axes>"
      ]
     },
     "metadata": {
      "needs_background": "light"
     },
     "output_type": "display_data"
    }
   ],
   "source": [
    "cf_matrix = confusion_matrix(y_test, predictions)\n",
    "group_names = ['True No', 'False No',\n",
    "               'False Yes', 'True Yes',]\n",
    "\n",
    "group_counts = [\"{0:0.0f}\".format(value) for value in cf_matrix.flatten()]\n",
    "group_percentages = [\"{0:.2%}\".format(value) for value in cf_matrix.flatten()/np.sum(cf_matrix)]\n",
    "labels = [f\"{v1}\\n{v2}\\n{v3}\" for v1, v2, v3 in zip(group_names,group_counts,group_percentages)]\n",
    "labels = np.asarray(labels).reshape(2,2)\n",
    "sns.heatmap(cf_matrix, annot=labels, fmt='', cmap='Blues')"
   ]
  },
  {
   "cell_type": "markdown",
   "metadata": {},
   "source": [
    "Very simmilar to the above one, of course, because the SMOTE data is already balanced"
   ]
  },
  {
   "cell_type": "markdown",
   "metadata": {},
   "source": [
    "### LogisticRegression with weights"
   ]
  },
  {
   "cell_type": "code",
   "execution_count": 50,
   "metadata": {},
   "outputs": [
    {
     "data": {
      "text/plain": [
       "0.623643949930459"
      ]
     },
     "execution_count": 50,
     "metadata": {},
     "output_type": "execute_result"
    }
   ],
   "source": [
    "classification = LogisticRegression(random_state=42, max_iter=10000, class_weight=weights)\n",
    "classification.fit(X_train_sm, y_train_sm)\n",
    "classification.score(X_test, y_test)"
   ]
  },
  {
   "cell_type": "code",
   "execution_count": 51,
   "metadata": {},
   "outputs": [
    {
     "data": {
      "text/plain": [
       "array([[2095, 1299],\n",
       "       [  54,  147]], dtype=int64)"
      ]
     },
     "execution_count": 51,
     "metadata": {},
     "output_type": "execute_result"
    }
   ],
   "source": [
    "predictions = classification.predict(X_test)\n",
    "confusion_matrix(y_test, predictions)"
   ]
  },
  {
   "cell_type": "code",
   "execution_count": 52,
   "metadata": {},
   "outputs": [
    {
     "data": {
      "text/plain": [
       "<AxesSubplot:>"
      ]
     },
     "execution_count": 52,
     "metadata": {},
     "output_type": "execute_result"
    },
    {
     "data": {
      "image/png": "[encoded data removed]",
      "text/plain": [
       "<Figure size 432x288 with 2 Axes>"
      ]
     },
     "metadata": {
      "needs_background": "light"
     },
     "output_type": "display_data"
    }
   ],
   "source": [
    "cf_matrix = confusion_matrix(y_test, predictions)\n",
    "group_names = ['True No', 'False No',\n",
    "               'False Yes', 'True Yes',]\n",
    "\n",
    "group_counts = [\"{0:0.0f}\".format(value) for value in cf_matrix.flatten()]\n",
    "group_percentages = [\"{0:.2%}\".format(value) for value in cf_matrix.flatten()/np.sum(cf_matrix)]\n",
    "labels = [f\"{v1}\\n{v2}\\n{v3}\" for v1, v2, v3 in zip(group_names,group_counts,group_percentages)]\n",
    "labels = np.asarray(labels).reshape(2,2)\n",
    "sns.heatmap(cf_matrix, annot=labels, fmt='', cmap='Blues')"
   ]
  },
  {
   "cell_type": "markdown",
   "metadata": {},
   "source": [
    "The True Yes rate is good but now the False Nos are quie high"
   ]
  },
  {
   "cell_type": "markdown",
   "metadata": {},
   "source": [
    "### 4.6 KNN "
   ]
  },
  {
   "cell_type": "code",
   "execution_count": 62,
   "metadata": {},
   "outputs": [],
   "source": [
    "def using_KNNClassifier (y_train,X_train,y_test,X_test,n):\n",
    "    \n",
    "    classification = KNeighborsClassifier(n_neighbors=n)\n",
    "    classification.fit(X_train, y_train)\n",
    "    predictions = classification.predict(X_test)\n",
    "    score = classification.score(X_test, y_test)\n",
    "    print(score)\n",
    "    \n",
    "    predictions = classification.predict(X_test)\n",
    "    print(confusion_matrix(y_test, predictions))\n",
    "    \n",
    "    cf_matrix = confusion_matrix(y_test, predictions)\n",
    "    group_names = ['True No', 'False No',\n",
    "                   'False Yes', 'True Yes',]\n",
    "\n",
    "    group_counts = [\"{0:0.0f}\".format(value) for value in cf_matrix.flatten()]\n",
    "    group_percentages = [\"{0:.2%}\".format(value) for value in cf_matrix.flatten()/np.sum(cf_matrix)]\n",
    "    labels = [f\"{v1}\\n{v2}\\n{v3}\" for v1, v2, v3 in zip(group_names,group_counts,group_percentages)]\n",
    "    labels = np.asarray(labels).reshape(2,2)\n",
    "    sns.heatmap(cf_matrix, annot=labels, fmt='', cmap='Blues')"
   ]
  },
  {
   "cell_type": "code",
   "execution_count": 63,
   "metadata": {},
   "outputs": [
    {
     "name": "stdout",
     "output_type": "stream",
     "text": [
      "0.9418636995827538\n",
      "[[3384   10]\n",
      " [ 199    2]]\n"
     ]
    },
    {
     "data": {
      "image/png": "[encoded data removed]",
      "text/plain": [
       "<Figure size 432x288 with 2 Axes>"
      ]
     },
     "metadata": {
      "needs_background": "light"
     },
     "output_type": "display_data"
    }
   ],
   "source": [
    "using_KNNClassifier(y_train,X_train,y_test,X_test,2)"
   ]
  },
  {
   "cell_type": "code",
   "execution_count": 64,
   "metadata": {},
   "outputs": [
    {
     "name": "stdout",
     "output_type": "stream",
     "text": [
      "0.9438108484005563\n",
      "[[3393    1]\n",
      " [ 201    0]]\n"
     ]
    },
    {
     "data": {
      "image/png": "[encoded data removed]",
      "text/plain": [
       "<Figure size 432x288 with 2 Axes>"
      ]
     },
     "metadata": {
      "needs_background": "light"
     },
     "output_type": "display_data"
    }
   ],
   "source": [
    "using_KNNClassifier(y_train,X_train,y_test,X_test,4)"
   ]
  },
  {
   "cell_type": "code",
   "execution_count": 65,
   "metadata": {},
   "outputs": [
    {
     "name": "stdout",
     "output_type": "stream",
     "text": [
      "0.9440890125173853\n",
      "[[3394    0]\n",
      " [ 201    0]]\n"
     ]
    },
    {
     "data": {
      "image/png": "[encoded data removed]",
      "text/plain": [
       "<Figure size 432x288 with 2 Axes>"
      ]
     },
     "metadata": {
      "needs_background": "light"
     },
     "output_type": "display_data"
    }
   ],
   "source": [
    "using_KNNClassifier(y_train,X_train,y_test,X_test,15)"
   ]
  },
  {
   "cell_type": "code",
   "execution_count": 66,
   "metadata": {},
   "outputs": [
    {
     "name": "stdout",
     "output_type": "stream",
     "text": [
      "0.9440890125173853\n",
      "[[3394    0]\n",
      " [ 201    0]]\n"
     ]
    },
    {
     "data": {
      "image/png": "[encoded data removed]",
      "text/plain": [
       "<Figure size 432x288 with 2 Axes>"
      ]
     },
     "metadata": {
      "needs_background": "light"
     },
     "output_type": "display_data"
    }
   ],
   "source": [
    "using_KNNClassifier(y_train,X_train,y_test,X_test,50)"
   ]
  },
  {
   "cell_type": "code",
   "execution_count": 67,
   "metadata": {},
   "outputs": [
    {
     "name": "stdout",
     "output_type": "stream",
     "text": [
      "0.9440890125173853\n",
      "[[3394    0]\n",
      " [ 201    0]]\n"
     ]
    },
    {
     "data": {
      "image/png": "[encoded data removed]",
      "text/plain": [
       "<Figure size 432x288 with 2 Axes>"
      ]
     },
     "metadata": {
      "needs_background": "light"
     },
     "output_type": "display_data"
    }
   ],
   "source": [
    "using_KNNClassifier(y_train,X_train,y_test,X_test,100)"
   ]
  },
  {
   "cell_type": "markdown",
   "metadata": {},
   "source": [
    "The KKNCLassifier seems not to be the best option even with different n_neighbors. The higher the n_neighbors, the worser the prdictions"
   ]
  },
  {
   "cell_type": "markdown",
   "metadata": {},
   "source": [
    "### With SMOTE data"
   ]
  },
  {
   "cell_type": "code",
   "execution_count": 68,
   "metadata": {},
   "outputs": [
    {
     "name": "stdout",
     "output_type": "stream",
     "text": [
      "0.8773296244784423\n",
      "[[3128  266]\n",
      " [ 175   26]]\n"
     ]
    },
    {
     "data": {
      "image/png": "[encoded data removed]",
      "text/plain": [
       "<Figure size 432x288 with 2 Axes>"
      ]
     },
     "metadata": {
      "needs_background": "light"
     },
     "output_type": "display_data"
    }
   ],
   "source": [
    "using_KNNClassifier(y_train_sm,X_train_sm,y_test,X_test,2)"
   ]
  },
  {
   "cell_type": "code",
   "execution_count": 69,
   "metadata": {},
   "outputs": [
    {
     "name": "stdout",
     "output_type": "stream",
     "text": [
      "0.8089012517385258\n",
      "[[2866  528]\n",
      " [ 159   42]]\n"
     ]
    },
    {
     "data": {
      "image/png": "[encoded data removed]",
      "text/plain": [
       "<Figure size 432x288 with 2 Axes>"
      ]
     },
     "metadata": {
      "needs_background": "light"
     },
     "output_type": "display_data"
    }
   ],
   "source": [
    "using_KNNClassifier(y_train_sm,X_train_sm,y_test,X_test,4)"
   ]
  },
  {
   "cell_type": "code",
   "execution_count": 70,
   "metadata": {},
   "outputs": [
    {
     "name": "stdout",
     "output_type": "stream",
     "text": [
      "0.6269819193324061\n",
      "[[2168 1226]\n",
      " [ 115   86]]\n"
     ]
    },
    {
     "data": {
      "image/png": "[encoded data removed]",
      "text/plain": [
       "<Figure size 432x288 with 2 Axes>"
      ]
     },
     "metadata": {
      "needs_background": "light"
     },
     "output_type": "display_data"
    }
   ],
   "source": [
    "using_KNNClassifier(y_train_sm,X_train_sm,y_test,X_test,15)"
   ]
  },
  {
   "cell_type": "code",
   "execution_count": 71,
   "metadata": {},
   "outputs": [
    {
     "name": "stdout",
     "output_type": "stream",
     "text": [
      "0.537413073713491\n",
      "[[1824 1570]\n",
      " [  93  108]]\n"
     ]
    },
    {
     "data": {
      "image/png": "[encoded data removed]",
      "text/plain": [
       "<Figure size 432x288 with 2 Axes>"
      ]
     },
     "metadata": {
      "needs_background": "light"
     },
     "output_type": "display_data"
    }
   ],
   "source": [
    "using_KNNClassifier(y_train_sm,X_train_sm,y_test,X_test,50)"
   ]
  },
  {
   "cell_type": "markdown",
   "metadata": {},
   "source": [
    "With an higher n_neighbor the number of False Nos and the True Yes gets bigger."
   ]
  },
  {
   "cell_type": "markdown",
   "metadata": {},
   "source": [
    "### 4.7 DesisionTreeClassifier"
   ]
  },
  {
   "cell_type": "code",
   "execution_count": 72,
   "metadata": {},
   "outputs": [],
   "source": [
    "def using_DecisionTreeClassifier (y_train,X_train,y_test,X_test):\n",
    "    \n",
    "    classification = DecisionTreeClassifier()\n",
    "    classification.fit(X_train, y_train)\n",
    "    predictions = classification.predict(X_test)\n",
    "    score = classification.score(X_test, y_test)\n",
    "    print(score)\n",
    "    \n",
    "    predictions = classification.predict(X_test)\n",
    "    print(confusion_matrix(y_test, predictions))\n",
    "    \n",
    "    cf_matrix = confusion_matrix(y_test, predictions)\n",
    "    group_names = ['True No', 'False No',\n",
    "                   'False Yes', 'True Yes',]\n",
    "\n",
    "    group_counts = [\"{0:0.0f}\".format(value) for value in cf_matrix.flatten()]\n",
    "    group_percentages = [\"{0:.2%}\".format(value) for value in cf_matrix.flatten()/np.sum(cf_matrix)]\n",
    "    labels = [f\"{v1}\\n{v2}\\n{v3}\" for v1, v2, v3 in zip(group_names,group_counts,group_percentages)]\n",
    "    labels = np.asarray(labels).reshape(2,2)\n",
    "    sns.heatmap(cf_matrix, annot=labels, fmt='', cmap='Blues')"
   ]
  },
  {
   "cell_type": "code",
   "execution_count": 73,
   "metadata": {},
   "outputs": [
    {
     "name": "stdout",
     "output_type": "stream",
     "text": [
      "0.890403337969402\n",
      "[[3180  214]\n",
      " [ 180   21]]\n"
     ]
    },
    {
     "data": {
      "image/png": "[encoded data removed]",
      "text/plain": [
       "<Figure size 432x288 with 2 Axes>"
      ]
     },
     "metadata": {
      "needs_background": "light"
     },
     "output_type": "display_data"
    }
   ],
   "source": [
    "using_DecisionTreeClassifier (y_train,X_train,y_test,X_test)"
   ]
  },
  {
   "cell_type": "markdown",
   "metadata": {},
   "source": [
    "Yes mostly isn't predicted right"
   ]
  },
  {
   "cell_type": "code",
   "execution_count": 74,
   "metadata": {},
   "outputs": [],
   "source": [
    "def using_DecisionTreeClassifier_with_class_weights (y_train,X_train,y_test,X_test,w):\n",
    "    \n",
    "    classification = DecisionTreeClassifier(class_weight=w)\n",
    "    classification.fit(X_train, y_train)\n",
    "    predictions = classification.predict(X_test)\n",
    "    score = classification.score(X_test, y_test)\n",
    "    print(score)\n",
    "    \n",
    "    predictions = classification.predict(X_test)\n",
    "    print(confusion_matrix(y_test, predictions))\n",
    "    \n",
    "    cf_matrix = confusion_matrix(y_test, predictions)\n",
    "    group_names = ['True No', 'False No',\n",
    "                   'False Yes', 'True Yes',]\n",
    "\n",
    "    group_counts = [\"{0:0.0f}\".format(value) for value in cf_matrix.flatten()]\n",
    "    group_percentages = [\"{0:.2%}\".format(value) for value in cf_matrix.flatten()/np.sum(cf_matrix)]\n",
    "    labels = [f\"{v1}\\n{v2}\\n{v3}\" for v1, v2, v3 in zip(group_names,group_counts,group_percentages)]\n",
    "    labels = np.asarray(labels).reshape(2,2)\n",
    "    sns.heatmap(cf_matrix, annot=labels, fmt='', cmap='Blues')"
   ]
  },
  {
   "cell_type": "code",
   "execution_count": 75,
   "metadata": {},
   "outputs": [
    {
     "name": "stdout",
     "output_type": "stream",
     "text": [
      "0.8973574408901251\n",
      "[[3204  190]\n",
      " [ 179   22]]\n"
     ]
    },
    {
     "data": {
      "image/png": "[encoded data removed]",
      "text/plain": [
       "<Figure size 432x288 with 2 Axes>"
      ]
     },
     "metadata": {
      "needs_background": "light"
     },
     "output_type": "display_data"
    }
   ],
   "source": [
    "using_DecisionTreeClassifier_with_class_weights (y_train,X_train,y_test,X_test,weights)"
   ]
  },
  {
   "cell_type": "code",
   "execution_count": 76,
   "metadata": {},
   "outputs": [
    {
     "name": "stdout",
     "output_type": "stream",
     "text": [
      "0.9009735744089012\n",
      "[[3217  177]\n",
      " [ 179   22]]\n"
     ]
    },
    {
     "data": {
      "image/png": "[encoded data removed]",
      "text/plain": [
       "<Figure size 432x288 with 2 Axes>"
      ]
     },
     "metadata": {
      "needs_background": "light"
     },
     "output_type": "display_data"
    }
   ],
   "source": [
    "b = 'balanced'\n",
    "using_DecisionTreeClassifier_with_class_weights (y_train,X_train,y_test,X_test,b)"
   ]
  },
  {
   "cell_type": "markdown",
   "metadata": {},
   "source": [
    "Using class weights or 'balanced' doesn't help much"
   ]
  },
  {
   "cell_type": "markdown",
   "metadata": {},
   "source": [
    "## 5 Conclusion"
   ]
  },
  {
   "cell_type": "markdown",
   "metadata": {},
   "source": [
    "If you are only interessted in the best True Yes rate, than you should use LogisticRegression with specific weights and SMOTE for the train set. But keep in mind that you also get a high False No rate."
   ]
  },
  {
   "cell_type": "code",
   "execution_count": null,
   "metadata": {},
   "outputs": [],
   "source": []
  }
 ],
 "metadata": {
  "kernelspec": {
   "display_name": "Python 3",
   "language": "python",
   "name": "python3"
  },
  "language_info": {
   "codemirror_mode": {
    "name": "ipython",
    "version": 3
   },
   "file_extension": ".py",
   "mimetype": "text/x-python",
   "name": "python",
   "nbconvert_exporter": "python",
   "pygments_lexer": "ipython3",
   "version": "3.8.5"
  }
 },
 "nbformat": 4,
 "nbformat_minor": 4
}
